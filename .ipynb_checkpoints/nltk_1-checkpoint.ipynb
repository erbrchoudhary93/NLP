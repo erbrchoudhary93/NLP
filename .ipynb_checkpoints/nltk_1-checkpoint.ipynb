{
 "cells": [
  {
   "cell_type": "code",
   "execution_count": null,
   "id": "8cbd8ca3",
   "metadata": {},
   "outputs": [],
   "source": [
    "import nltk\n",
    "import spacy\n"
   ]
  },
  {
   "cell_type": "code",
   "execution_count": null,
   "id": "0d352f8d",
   "metadata": {},
   "outputs": [],
   "source": [
    "from nltk.stem import PorterStemmer\n",
    "stemmer = PorterStemmer()"
   ]
  },
  {
   "cell_type": "code",
   "execution_count": null,
   "id": "bada18a6",
   "metadata": {},
   "outputs": [],
   "source": [
    "words =[\"eating\",\"eats\",\"ate\",\"adjustable\",'ability','meeting']\n",
    "for word in words:\n",
    "    \n",
    "    print(word , \" | \",stemmer.stem(word))"
   ]
  },
  {
   "cell_type": "code",
   "execution_count": null,
   "id": "9daa1973",
   "metadata": {},
   "outputs": [],
   "source": [
    "nlp = spacy.load(\"en_core_web_sm\")\n",
    "docs = \"\"\"Lexical or Morphological Analysis is the initial step in NLP. It entails recognizing \n",
    "        and analyzing word structures. The collection of words and phrases in a language is referred to \n",
    "        as the lexicon. Lexical analysis is the process of breaking down a text file into paragraphs, phrases, \n",
    "        and words. The source code is scanned as a stream of characters and converted into intelligible lexemes in\n",
    "        this phase. The entire book is divided into paragraphs, phrases, and words.\"\"\"\n",
    "\n",
    "doc = nlp(docs)\n",
    "for token in doc :\n",
    "    print(token, \" | \",token.lemma_)"
   ]
  }
 ],
 "metadata": {
  "kernelspec": {
   "display_name": "Python 3 (ipykernel)",
   "language": "python",
   "name": "python3"
  },
  "language_info": {
   "codemirror_mode": {
    "name": "ipython",
    "version": 3
   },
   "file_extension": ".py",
   "mimetype": "text/x-python",
   "name": "python",
   "nbconvert_exporter": "python",
   "pygments_lexer": "ipython3",
   "version": "3.9.7"
  }
 },
 "nbformat": 4,
 "nbformat_minor": 5
}
