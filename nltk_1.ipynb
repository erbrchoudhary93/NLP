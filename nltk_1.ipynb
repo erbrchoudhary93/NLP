{
 "cells": [
  {
   "cell_type": "code",
   "execution_count": 1,
   "id": "8cbd8ca3",
   "metadata": {},
   "outputs": [
    {
     "name": "stderr",
     "output_type": "stream",
     "text": [
      "2022-11-25 12:20:41.245381: W tensorflow/stream_executor/platform/default/dso_loader.cc:64] Could not load dynamic library 'libcudart.so.11.0'; dlerror: libcudart.so.11.0: cannot open shared object file: No such file or directory\n",
      "2022-11-25 12:20:41.245484: I tensorflow/stream_executor/cuda/cudart_stub.cc:29] Ignore above cudart dlerror if you do not have a GPU set up on your machine.\n",
      "2022-11-25 12:20:42.403675: E tensorflow/stream_executor/cuda/cuda_blas.cc:2981] Unable to register cuBLAS factory: Attempting to register factory for plugin cuBLAS when one has already been registered\n",
      "2022-11-25 12:20:58.896034: W tensorflow/stream_executor/platform/default/dso_loader.cc:64] Could not load dynamic library 'libnvinfer.so.7'; dlerror: libnvinfer.so.7: cannot open shared object file: No such file or directory\n",
      "2022-11-25 12:20:58.918806: W tensorflow/stream_executor/platform/default/dso_loader.cc:64] Could not load dynamic library 'libnvinfer_plugin.so.7'; dlerror: libnvinfer_plugin.so.7: cannot open shared object file: No such file or directory\n",
      "2022-11-25 12:20:58.918895: W tensorflow/compiler/tf2tensorrt/utils/py_utils.cc:38] TF-TRT Warning: Cannot dlopen some TensorRT libraries. If you would like to use Nvidia GPU with TensorRT, please make sure the missing libraries mentioned above are installed properly.\n",
      "2022-11-25 12:21:30.242363: W tensorflow/stream_executor/platform/default/dso_loader.cc:64] Could not load dynamic library 'libcuda.so.1'; dlerror: libcuda.so.1: cannot open shared object file: No such file or directory\n",
      "2022-11-25 12:21:30.248170: W tensorflow/stream_executor/cuda/cuda_driver.cc:263] failed call to cuInit: UNKNOWN ERROR (303)\n",
      "2022-11-25 12:21:30.248320: I tensorflow/stream_executor/cuda/cuda_diagnostics.cc:156] kernel driver does not appear to be running on this host (ram): /proc/driver/nvidia/version does not exist\n"
     ]
    }
   ],
   "source": [
    "import nltk\n",
    "import spacy\n"
   ]
  },
  {
   "cell_type": "code",
   "execution_count": 2,
   "id": "0d352f8d",
   "metadata": {},
   "outputs": [],
   "source": [
    "from nltk.stem import PorterStemmer\n",
    "stemmer = PorterStemmer()"
   ]
  },
  {
   "cell_type": "code",
   "execution_count": 3,
   "id": "bada18a6",
   "metadata": {},
   "outputs": [
    {
     "name": "stdout",
     "output_type": "stream",
     "text": [
      "eating  |  eat\n",
      "eats  |  eat\n",
      "ate  |  ate\n",
      "adjustable  |  adjust\n",
      "ability  |  abil\n",
      "meeting  |  meet\n"
     ]
    }
   ],
   "source": [
    "words =[\"eating\",\"eats\",\"ate\",\"adjustable\",'ability','meeting']\n",
    "for word in words:\n",
    "    \n",
    "    print(word , \" | \",stemmer.stem(word))"
   ]
  },
  {
   "cell_type": "code",
   "execution_count": 4,
   "id": "9daa1973",
   "metadata": {},
   "outputs": [
    {
     "name": "stdout",
     "output_type": "stream",
     "text": [
      "Lexical  |  lexical\n",
      "or  |  or\n",
      "Morphological  |  Morphological\n",
      "Analysis  |  Analysis\n",
      "is  |  be\n",
      "the  |  the\n",
      "initial  |  initial\n",
      "step  |  step\n",
      "in  |  in\n",
      "NLP  |  NLP\n",
      ".  |  .\n",
      "It  |  it\n",
      "entails  |  entail\n",
      "recognizing  |  recognize\n",
      "\n",
      "          |  \n",
      "        \n",
      "and  |  and\n",
      "analyzing  |  analyze\n",
      "word  |  word\n",
      "structures  |  structure\n",
      ".  |  .\n",
      "The  |  the\n",
      "collection  |  collection\n",
      "of  |  of\n",
      "words  |  word\n",
      "and  |  and\n",
      "phrases  |  phrase\n",
      "in  |  in\n",
      "a  |  a\n",
      "language  |  language\n",
      "is  |  be\n",
      "referred  |  refer\n",
      "to  |  to\n",
      "\n",
      "          |  \n",
      "        \n",
      "as  |  as\n",
      "the  |  the\n",
      "lexicon  |  lexicon\n",
      ".  |  .\n",
      "Lexical  |  lexical\n",
      "analysis  |  analysis\n",
      "is  |  be\n",
      "the  |  the\n",
      "process  |  process\n",
      "of  |  of\n",
      "breaking  |  break\n",
      "down  |  down\n",
      "a  |  a\n",
      "text  |  text\n",
      "file  |  file\n",
      "into  |  into\n",
      "paragraphs  |  paragraph\n",
      ",  |  ,\n",
      "phrases  |  phrase\n",
      ",  |  ,\n",
      "\n",
      "          |  \n",
      "        \n",
      "and  |  and\n",
      "words  |  word\n",
      ".  |  .\n",
      "The  |  the\n",
      "source  |  source\n",
      "code  |  code\n",
      "is  |  be\n",
      "scanned  |  scan\n",
      "as  |  as\n",
      "a  |  a\n",
      "stream  |  stream\n",
      "of  |  of\n",
      "characters  |  character\n",
      "and  |  and\n",
      "converted  |  convert\n",
      "into  |  into\n",
      "intelligible  |  intelligible\n",
      "lexemes  |  lexeme\n",
      "in  |  in\n",
      "\n",
      "          |  \n",
      "        \n",
      "this  |  this\n",
      "phase  |  phase\n",
      ".  |  .\n",
      "The  |  the\n",
      "entire  |  entire\n",
      "book  |  book\n",
      "is  |  be\n",
      "divided  |  divide\n",
      "into  |  into\n",
      "paragraphs  |  paragraph\n",
      ",  |  ,\n",
      "phrases  |  phrase\n",
      ",  |  ,\n",
      "and  |  and\n",
      "words  |  word\n",
      ".  |  .\n"
     ]
    }
   ],
   "source": [
    "nlp = spacy.load(\"en_core_web_sm\")\n",
    "docs = \"\"\"Lexical or Morphological Analysis is the initial step in NLP. It entails recognizing \n",
    "        and analyzing word structures. The collection of words and phrases in a language is referred to \n",
    "        as the lexicon. \"\"\"\n",
    "\n",
    "doc = nlp(docs)\n",
    "for token in doc :\n",
    "    print(token, \" | \",token.lemma_)"
   ]
  },
  {
   "cell_type": "code",
   "execution_count": 19,
   "id": "89528476",
   "metadata": {},
   "outputs": [
    {
     "name": "stdout",
     "output_type": "stream",
     "text": [
      "Word -  eating || stemmer word -  eat\n",
      "Word -  eats || stemmer word -  eat\n",
      "Word -  ate || stemmer word -  ate\n",
      "Word -  adjustable || stemmer word -  adjust\n",
      "Word -  ability || stemmer word -  abil\n",
      "Word -  meeting || stemmer word -  meet\n",
      "Word -  is || stemmer word -  is\n",
      "Word -  entails || stemmer word -  entail\n",
      "Word -  analyzing || stemmer word -  analyz\n",
      "Word -  wonderful || stemmer word -  wonder\n",
      "Word -  beatiful || stemmer word -  beati\n"
     ]
    }
   ],
   "source": [
    "from nltk.stem import PorterStemmer\n",
    "stemmer = PorterStemmer()\n",
    "words =[\"eating\",\"eats\",\"ate\",\"adjustable\",'ability','meeting',\"is\",\"entails\",\"analyzing\",\"wonderful\",\"beatiful\"]\n",
    "for word in words:\n",
    "    print(\"Word - \",word , \"|| stemmer word - \",stemmer.stem(word))"
   ]
  },
  {
   "cell_type": "code",
   "execution_count": 17,
   "id": "6178ab69",
   "metadata": {},
   "outputs": [
    {
     "name": "stdout",
     "output_type": "stream",
     "text": [
      "Words -  Lexical  ||  Lemmatize word- lexical\n",
      "Words -  or  ||  Lemmatize word- or\n",
      "Words -  Morphological  ||  Lemmatize word- Morphological\n",
      "Words -  Analysis  ||  Lemmatize word- Analysis\n",
      "Words -  is  ||  Lemmatize word- be\n",
      "Words -  the  ||  Lemmatize word- the\n",
      "Words -  initial  ||  Lemmatize word- initial\n",
      "Words -  step  ||  Lemmatize word- step\n",
      "Words -  in  ||  Lemmatize word- in\n",
      "Words -  NLP  ||  Lemmatize word- NLP\n",
      "Words -  .  ||  Lemmatize word- .\n",
      "Words -  It  ||  Lemmatize word- it\n",
      "Words -  entails  ||  Lemmatize word- entail\n",
      "Words -  recognizing  ||  Lemmatize word- recognize\n",
      "Words -  and  ||  Lemmatize word- and\n",
      "Words -  analyzing  ||  Lemmatize word- analyze\n",
      "Words -  word  ||  Lemmatize word- word\n",
      "Words -  structures  ||  Lemmatize word- structure\n"
     ]
    }
   ],
   "source": [
    "nlp = spacy.load(\"en_core_web_sm\")\n",
    "docs = \"\"\"Lexical or Morphological Analysis is the initial step in NLP. It entails recognizing and analyzing word structures\"\"\"\n",
    "\n",
    "doc = nlp(docs)\n",
    "\n",
    "for token in doc :\n",
    "    print(\"Words - \",token, \" ||  Lemmatize word-\",token.lemma_)"
   ]
  }
 ],
 "metadata": {
  "kernelspec": {
   "display_name": "Python 3 (ipykernel)",
   "language": "python",
   "name": "python3"
  },
  "language_info": {
   "codemirror_mode": {
    "name": "ipython",
    "version": 3
   },
   "file_extension": ".py",
   "mimetype": "text/x-python",
   "name": "python",
   "nbconvert_exporter": "python",
   "pygments_lexer": "ipython3",
   "version": "3.9.7"
  }
 },
 "nbformat": 4,
 "nbformat_minor": 5
}
