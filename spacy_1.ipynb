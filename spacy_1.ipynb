{
 "cells": [
  {
   "cell_type": "code",
   "execution_count": 3,
   "id": "8a79afa1",
   "metadata": {},
   "outputs": [],
   "source": [
    "import spacy"
   ]
  },
  {
   "cell_type": "code",
   "execution_count": 4,
   "id": "404d3d69",
   "metadata": {},
   "outputs": [],
   "source": [
    "nlp = spacy.load(\"en_core_web_sm\")"
   ]
  },
  {
   "cell_type": "code",
   "execution_count": 5,
   "id": "9a8de833",
   "metadata": {},
   "outputs": [
    {
     "name": "stdout",
     "output_type": "stream",
     "text": [
      "Lexical or Morphological Analysis is the initial step in NLP.\n",
      "It entails recognizing and analyzing word structures.\n",
      "The collection of words and phrases in a language is referred to as the lexicon.\n",
      "Lexical analysis is the process of breaking down a text file into paragraphs, phrases, and words.\n",
      "The source code is scanned as a stream of characters and converted into intelligible lexemes inthis phase.\n",
      "The entire book is divided into paragraphs, phrases, and words.\n",
      "It refers to the study of text atthe level of individual words.\n",
      "It searches for morphemes, which are the smallest units of a word.\n",
      "The lexical analysis identifies the relationship between these morphemes and transforms the word into its root form.\n",
      "The word’s probable parts of speech (POS) are also assigned by a lexical analyzer.\n"
     ]
    }
   ],
   "source": [
    "doc =nlp( \"\"\"Dr. Dib learned rapidly because his first training was in how to learn. And the first lesson of all was the basic trust that he could learn.\"\"\")\n",
    "docs = \"\"\"Lexical or Morphological Analysis is the initial step in NLP. It entails recognizing and analyzing word structures. The collection of words and phrases in a language is referred to as the lexicon. Lexical analysis is the process of breaking down a text file into paragraphs, phrases, and words. The source code is scanned as a stream of characters and converted into intelligible lexemes inthis phase. The entire book is divided into paragraphs, phrases, and words. It refers to the study of text atthe level of individual words. It searches for morphemes, which are the smallest units of a word. The lexical analysis identifies the relationship between these morphemes and transforms the word into its root form. The word’s probable parts of speech (POS) are also assigned by a lexical analyzer.\"\"\"\n",
    "docs1 = nlp(docs)\n",
    "for sentence in docs1.sents:\n",
    "    print(sentence)"
   ]
  },
  {
   "cell_type": "code",
   "execution_count": 6,
   "id": "58616584",
   "metadata": {},
   "outputs": [
    {
     "name": "stdout",
     "output_type": "stream",
     "text": [
      "Dr. Dib learned rapidly because his first training was in how to learn.\n",
      "Dr.\n",
      "Dib\n",
      "learned\n",
      "rapidly\n",
      "because\n",
      "his\n",
      "first\n",
      "training\n",
      "was\n",
      "in\n",
      "how\n",
      "to\n",
      "learn\n",
      ".\n",
      "And the first lesson of all was the basic trust that he could learn.\n",
      "And\n",
      "the\n",
      "first\n",
      "lesson\n",
      "of\n",
      "all\n",
      "was\n",
      "the\n",
      "basic\n",
      "trust\n",
      "that\n",
      "he\n",
      "could\n",
      "learn\n",
      ".\n"
     ]
    }
   ],
   "source": [
    "for sentence in doc.sents:\n",
    "    print(sentence)\n",
    "    for word in sentence:\n",
    "        print(word)\n",
    "    "
   ]
  },
  {
   "cell_type": "code",
   "execution_count": 7,
   "id": "22c615a7",
   "metadata": {},
   "outputs": [],
   "source": [
    "import nltk"
   ]
  },
  {
   "cell_type": "code",
   "execution_count": 8,
   "id": "e7d73916",
   "metadata": {},
   "outputs": [],
   "source": [
    "from nltk.tokenize import sent_tokenize,word_tokenize"
   ]
  },
  {
   "cell_type": "code",
   "execution_count": 9,
   "id": "0bf657f0",
   "metadata": {},
   "outputs": [],
   "source": [
    "import spacy\n",
    "from spacy.lang.en.stop_words import STOP_WORDS"
   ]
  },
  {
   "cell_type": "code",
   "execution_count": 10,
   "id": "408f39e1",
   "metadata": {},
   "outputs": [
    {
     "data": {
      "text/plain": [
       "326"
      ]
     },
     "execution_count": 10,
     "metadata": {},
     "output_type": "execute_result"
    }
   ],
   "source": [
    "len(STOP_WORDS)"
   ]
  },
  {
   "cell_type": "code",
   "execution_count": 11,
   "id": "cfaba219",
   "metadata": {},
   "outputs": [
    {
     "name": "stdout",
     "output_type": "stream",
     "text": [
      "or\n",
      "is\n",
      "the\n",
      "in\n",
      "It\n",
      "and\n",
      "The\n",
      "of\n",
      "and\n",
      "in\n",
      "a\n",
      "is\n",
      "to\n",
      "as\n",
      "the\n",
      "is\n",
      "the\n",
      "of\n",
      "down\n",
      "a\n",
      "into\n",
      "and\n",
      "The\n",
      "is\n",
      "as\n",
      "a\n",
      "of\n",
      "and\n",
      "into\n",
      "The\n",
      "is\n",
      "into\n",
      "and\n",
      "It\n",
      "to\n",
      "the\n",
      "of\n",
      "of\n",
      "It\n",
      "for\n",
      "which\n",
      "are\n",
      "the\n",
      "of\n",
      "a\n",
      "The\n",
      "the\n",
      "between\n",
      "these\n",
      "and\n",
      "the\n",
      "into\n",
      "its\n",
      "The\n",
      "’s\n",
      "of\n",
      "are\n",
      "also\n",
      "by\n",
      "a\n"
     ]
    }
   ],
   "source": [
    "nlp = spacy.load(\"en_core_web_sm\")\n",
    "\n",
    "doc = nlp(docs)\n",
    "for token in doc:\n",
    "    if token.is_stop:\n",
    "        print(token.text)\n"
   ]
  },
  {
   "cell_type": "code",
   "execution_count": 12,
   "id": "04bce7c4",
   "metadata": {},
   "outputs": [
    {
     "data": {
      "text/plain": [
       "['Lexical',\n",
       " 'Morphological',\n",
       " 'Analysis',\n",
       " 'initial',\n",
       " 'step',\n",
       " 'NLP',\n",
       " 'entails',\n",
       " 'recognizing',\n",
       " 'analyzing',\n",
       " 'word',\n",
       " 'structures',\n",
       " 'collection',\n",
       " 'words',\n",
       " 'phrases',\n",
       " 'language',\n",
       " 'referred',\n",
       " 'lexicon',\n",
       " 'Lexical',\n",
       " 'analysis',\n",
       " 'process',\n",
       " 'breaking',\n",
       " 'text',\n",
       " 'file',\n",
       " 'paragraphs',\n",
       " 'phrases',\n",
       " 'words',\n",
       " 'source',\n",
       " 'code',\n",
       " 'scanned',\n",
       " 'stream',\n",
       " 'characters',\n",
       " 'converted',\n",
       " 'intelligible',\n",
       " 'lexemes',\n",
       " 'inthis',\n",
       " 'phase',\n",
       " 'entire',\n",
       " 'book',\n",
       " 'divided',\n",
       " 'paragraphs',\n",
       " 'phrases',\n",
       " 'words',\n",
       " 'refers',\n",
       " 'study',\n",
       " 'text',\n",
       " 'atthe',\n",
       " 'level',\n",
       " 'individual',\n",
       " 'words',\n",
       " 'searches',\n",
       " 'morphemes',\n",
       " 'smallest',\n",
       " 'units',\n",
       " 'word',\n",
       " 'lexical',\n",
       " 'analysis',\n",
       " 'identifies',\n",
       " 'relationship',\n",
       " 'morphemes',\n",
       " 'transforms',\n",
       " 'word',\n",
       " 'root',\n",
       " 'form',\n",
       " 'word',\n",
       " 'probable',\n",
       " 'parts',\n",
       " 'speech',\n",
       " 'POS',\n",
       " 'assigned',\n",
       " 'lexical',\n",
       " 'analyzer']"
      ]
     },
     "execution_count": 12,
     "metadata": {},
     "output_type": "execute_result"
    }
   ],
   "source": [
    "docs = \"\"\"Lexical or Morphological Analysis is the initial step in NLP. It entails recognizing and\n",
    "    analyzing word structures. The collection of words and phrases in a language is referred to as the lexicon. \n",
    "    Lexical analysis is the process of breaking down a text file into paragraphs, phrases, and words. \n",
    "   .\"\"\"\n",
    "def preprocess(text):\n",
    "    doc = nlp(text)\n",
    "    no_stop_words=[token.text for token in doc if not token.is_stop and not token.is_punct]\n",
    "    return no_stop_words\n",
    "preprocess(doc)"
   ]
  },
  {
   "cell_type": "code",
   "execution_count": 17,
   "id": "3d6cbc09",
   "metadata": {},
   "outputs": [
    {
     "name": "stdout",
     "output_type": "stream",
     "text": [
      "Word -  Lexical || Part of Speech -  ADJ\n",
      "Word -  or || Part of Speech -  CCONJ\n",
      "Word -  Morphological || Part of Speech -  PROPN\n",
      "Word -  Analysis || Part of Speech -  PROPN\n",
      "Word -  is || Part of Speech -  AUX\n",
      "Word -  the || Part of Speech -  DET\n",
      "Word -  initial || Part of Speech -  ADJ\n",
      "Word -  step || Part of Speech -  NOUN\n",
      "Word -  in || Part of Speech -  ADP\n",
      "Word -  NLP || Part of Speech -  PROPN\n",
      "Word -  . || Part of Speech -  PUNCT\n",
      "Word -  It || Part of Speech -  PRON\n",
      "Word -  entails || Part of Speech -  VERB\n",
      "Word -  recognizing || Part of Speech -  VERB\n",
      "Word -  and || Part of Speech -  CCONJ\n",
      "Word -  \n",
      "     || Part of Speech -  SPACE\n",
      "Word -  analyzing || Part of Speech -  VERB\n",
      "Word -  word || Part of Speech -  NOUN\n",
      "Word -  structures || Part of Speech -  NOUN\n",
      "Word -  . || Part of Speech -  PUNCT\n",
      "Word -  \n",
      "    || Part of Speech -  SPACE\n",
      "Word -  . || Part of Speech -  PUNCT\n"
     ]
    }
   ],
   "source": [
    "import spacy\n",
    "nlp = spacy.load(\"en_core_web_sm\")\n",
    "docs = \"\"\"Lexical or Morphological Analysis is the initial step in NLP. It entails recognizing and\n",
    "    analyzing word structures. \n",
    "   .\"\"\"\n",
    "doc= nlp(docs)\n",
    "for token in doc:\n",
    "    print(\"Word - \",token,\"|| Part of Speech - \",token.pos_)"
   ]
  }
 ],
 "metadata": {
  "kernelspec": {
   "display_name": "Python 3 (ipykernel)",
   "language": "python",
   "name": "python3"
  },
  "language_info": {
   "codemirror_mode": {
    "name": "ipython",
    "version": 3
   },
   "file_extension": ".py",
   "mimetype": "text/x-python",
   "name": "python",
   "nbconvert_exporter": "python",
   "pygments_lexer": "ipython3",
   "version": "3.9.7"
  }
 },
 "nbformat": 4,
 "nbformat_minor": 5
}
